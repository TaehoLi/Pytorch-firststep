{
 "cells": [
  {
   "cell_type": "code",
   "execution_count": 1,
   "metadata": {
    "colab": {},
    "colab_type": "code",
    "id": "bELyfJg4zWRR"
   },
   "outputs": [],
   "source": [
    "import torch\n",
    "from torch import nn\n",
    "\n",
    "net = nn.Sequential(\n",
    "    nn.Linear(64, 32),\n",
    "    nn.ReLU(),\n",
    "    nn.Linear(32, 16),\n",
    "    nn.ReLU(),\n",
    "    nn.Linear(16, 10)\n",
    ")"
   ]
  },
  {
   "cell_type": "code",
   "execution_count": 2,
   "metadata": {
    "colab": {},
    "colab_type": "code",
    "id": "b5ZUgKhB7sjk"
   },
   "outputs": [],
   "source": [
    "from torch import optim\n",
    "from sklearn.datasets import load_digits\n",
    "digits = load_digits()\n",
    "\n",
    "X = digits.data\n",
    "Y = digits.target\n",
    "\n",
    "# NumPy의 ndarray를 PyTorch의 Tensor로 변환\n",
    "X = torch.tensor(X, dtype=torch.float32)\n",
    "Y = torch.tensor(Y, dtype=torch.int64)\n",
    "\n",
    "# 소프트맥스 크로스 엔트로피\n",
    "loss_fn = nn.CrossEntropyLoss()\n",
    "\n",
    "# Adam\n",
    "optimizer = optim.Adam(net.parameters())\n",
    "\n",
    "# 손실 함수의 로그\n",
    "losses = []\n",
    "\n",
    "# 100회 반복\n",
    "for epoc in range(100):\n",
    "     # backward 메서드로 계산된 \n",
    "    #이전 값을 삭제\n",
    "    optimizer.zero_grad()\n",
    "    \n",
    "    # 선형 모델로 y의 예측 값 계산\n",
    "    y_pred = net(X)\n",
    "    \n",
    "    # MSE loss와 w를 사용한 미분 계산\n",
    "    loss = loss_fn(y_pred, Y)\n",
    "    loss.backward()\n",
    "    \n",
    "    # 경사를 갱신\n",
    "    optimizer.step()\n",
    "    \n",
    "    # 수렴 확인을 위해 loss를 기록해둔다\n",
    "    losses.append(loss.item())"
   ]
  },
  {
   "cell_type": "code",
   "execution_count": 3,
   "metadata": {
    "colab": {
     "base_uri": "https://localhost:8080/",
     "height": 143
    },
    "colab_type": "code",
    "executionInfo": {
     "elapsed": 756,
     "status": "ok",
     "timestamp": 1545978895684,
     "user": {
      "displayName": "winston kim",
      "photoUrl": "",
      "userId": "05942964544969189760"
     },
     "user_tz": -480
    },
    "id": "hwFS36dX8rSh",
    "outputId": "46e64553-ea56-48fc-84f9-e50d92c8a010"
   },
   "outputs": [
    {
     "data": {
      "text/plain": [
       "Sequential(\n",
       "  (0): Linear(in_features=64, out_features=32, bias=True)\n",
       "  (1): ReLU()\n",
       "  (2): Linear(in_features=32, out_features=16, bias=True)\n",
       "  (3): ReLU()\n",
       "  (4): Linear(in_features=16, out_features=10, bias=True)\n",
       ")"
      ]
     },
     "execution_count": 3,
     "metadata": {},
     "output_type": "execute_result"
    }
   ],
   "source": [
    "X = X.to(\"cuda:0\")\n",
    "Y = Y.to(\"cuda:0\")\n",
    "net.to(\"cuda:0\")\n",
    "\n",
    "# 이후 처리는 동일하게 optimizer를 설정해서 학습 루프를 돌린다"
   ]
  },
  {
   "cell_type": "code",
   "execution_count": 4,
   "metadata": {
    "colab": {},
    "colab_type": "code",
    "id": "OKJz-w21FrBE"
   },
   "outputs": [],
   "source": [
    "from torch.utils.data import TensorDataset, DataLoader\n",
    "\n",
    "\n",
    "# Dataset 작성\n",
    "ds = TensorDataset(X, Y)\n",
    "\n",
    "# 순서로 섞어서 64개씩 데이터를 반환하는 DataLoader 작성\n",
    "loader = DataLoader(ds, batch_size=64, shuffle=True)\n",
    "\n",
    "loss_fn = nn.CrossEntropyLoss()\n",
    "optimizer = optim.Adam(net.parameters())\n",
    "\n",
    "# 최적화 실행\n",
    "losses = []\n",
    "for epoch in range(10):\n",
    "    running_loss = 0.0\n",
    "    for xx, yy in loader:\n",
    "        # xx, yy는 64개만는다\n",
    "        y_pred = net(xx)\n",
    "        loss = loss_fn(y_pred, yy)\n",
    "        optimizer.zero_grad()\n",
    "        loss.backward()\n",
    "        optimizer.step()\n",
    "        running_loss += loss.item()\n",
    "    losses.append(running_loss)"
   ]
  },
  {
   "cell_type": "code",
   "execution_count": 5,
   "metadata": {
    "colab": {},
    "colab_type": "code",
    "id": "cXfXTxxRQMm4"
   },
   "outputs": [],
   "source": [
    "#데이터를 훈령용과 검증용으로 분할\n",
    "from sklearn.model_selection import train_test_split\n",
    "# 전체의 30%는 검증용\n",
    "X = digits.data\n",
    "Y = digits.target\n",
    "X_train, X_test, Y_train, Y_test = train_test_split(X, Y, test_size=0.3)\n",
    "\n",
    "X_train = torch.tensor(X_train, dtype=torch.float32)\n",
    "Y_train = torch.tensor(Y_train, dtype=torch.int64)\n",
    "X_test = torch.tensor(X_test, dtype=torch.float32)\n",
    "Y_test = torch.tensor(Y_test, dtype=torch.int64)\n",
    "\n",
    "# 여러 층을 쌓아서 깊은 신경망을 구축한다\n",
    "k = 100\n",
    "net = nn.Sequential(\n",
    "    nn.Linear(64, k),\n",
    "    nn.ReLU(),\n",
    "    nn.Linear(k, k),\n",
    "    nn.ReLU(),\n",
    "    nn.Linear(k, k),\n",
    "    nn.ReLU(),\n",
    "    nn.Linear(k, k),\n",
    "    nn.ReLU(),\n",
    "    nn.Linear(k, 10)\n",
    ")\n",
    "\n",
    "loss_fn = nn.CrossEntropyLoss()\n",
    "optimizer = optim.Adam(net.parameters())\n",
    "# 훈련용 데이터로 DataLoader를 작성\n",
    "ds = TensorDataset(X_train, Y_train)\n",
    "loader = DataLoader(ds, batch_size=32, shuffle=True)"
   ]
  },
  {
   "cell_type": "code",
   "execution_count": 6,
   "metadata": {
    "colab": {},
    "colab_type": "code",
    "id": "foudr4_ZRTec"
   },
   "outputs": [],
   "source": [
    "train_losses = []\n",
    "test_losses = []\n",
    "for epoch in range(100):\n",
    "    running_loss = 0.0\n",
    "    for i, (xx, yy) in enumerate(loader):\n",
    "        y_pred = net(xx)\n",
    "        loss = loss_fn(y_pred, yy)\n",
    "        optimizer.zero_grad()\n",
    "        loss.backward()\n",
    "        optimizer.step()\n",
    "        running_loss += loss.item()\n",
    "    train_losses.append(running_loss / i)\n",
    "    y_pred = net(X_test)\n",
    "    test_loss = loss_fn(y_pred, Y_test)\n",
    "    test_losses.append(test_loss.item())"
   ]
  },
  {
   "cell_type": "code",
   "execution_count": 7,
   "metadata": {
    "colab": {},
    "colab_type": "code",
    "id": "CaTqA_7SSh1f"
   },
   "outputs": [],
   "source": [
    "# 확률 0.5로 랜덤으로 변수의 차원을\n",
    "# 버리는 Dropout을 각 층에 추가\n",
    "net = nn.Sequential(\n",
    "    nn.Linear(64, k),\n",
    "    nn.ReLU(),\n",
    "    nn.Dropout(0.5),\n",
    "    nn.Linear(k, k),\n",
    "    nn.ReLU(),\n",
    "    nn.Dropout(0.5),\n",
    "    nn.Linear(k, k),\n",
    "    nn.ReLU(),\n",
    "    nn.Dropout(0.5),\n",
    "    nn.Linear(k, k),\n",
    "    nn.ReLU(),\n",
    "    nn.Dropout(0.5),\n",
    "    nn.Linear(k, 10)\n",
    ")"
   ]
  },
  {
   "cell_type": "code",
   "execution_count": 8,
   "metadata": {
    "colab": {},
    "colab_type": "code",
    "id": "n2hhGcc7TEVv"
   },
   "outputs": [],
   "source": [
    "optimizer = optim.Adam(net.parameters())\n",
    "\n",
    "train_losses = []\n",
    "test_losses = []\n",
    "for epoch in range(100):\n",
    "    running_loss = 0.0\n",
    "    # 신경망을 훈련 모드로 설정\n",
    "    net.train()\n",
    "    for i, (xx, yy) in enumerate(loader):\n",
    "        y_pred = net(xx)\n",
    "        loss = loss_fn(y_pred, yy)\n",
    "        optimizer.zero_grad()\n",
    "        loss.backward()\n",
    "        optimizer.step()\n",
    "        running_loss += loss.item()\n",
    "    train_losses.append(running_loss / i)\n",
    "    # 신경망을 평가 모드로 설정하고\n",
    "    # 검증 데이터의 손실 함수를 계산\n",
    "    net.eval()\n",
    "    y_pred = net(X_test)\n",
    "    test_loss = loss_fn(y_pred, Y_test)\n",
    "    test_losses.append(test_loss.item())"
   ]
  },
  {
   "cell_type": "code",
   "execution_count": 9,
   "metadata": {
    "colab": {},
    "colab_type": "code",
    "id": "sPUpNv3Dd2kd"
   },
   "outputs": [],
   "source": [
    "# Linear층에는 BatchNorm1d를 적용한다\n",
    "net = nn.Sequential(\n",
    "    nn.Linear(64, k),\n",
    "    nn.ReLU(),\n",
    "    nn.BatchNorm1d(k),\n",
    "    nn.Linear(k, k),\n",
    "    nn.ReLU(),\n",
    "    nn.BatchNorm1d(k),\n",
    "    nn.Linear(k, k),\n",
    "    nn.ReLU(),\n",
    "    nn.BatchNorm1d(k),\n",
    "    nn.Linear(k, k),\n",
    "    nn.ReLU(),\n",
    "    nn.BatchNorm1d(k),\n",
    "    nn.Linear(k, 10)\n",
    ")"
   ]
  },
  {
   "cell_type": "code",
   "execution_count": 10,
   "metadata": {
    "colab": {},
    "colab_type": "code",
    "id": "gQfRQDu60JuZ"
   },
   "outputs": [],
   "source": [
    "class CustomLinear(nn.Module):\n",
    "    def __init__(self, in_features,\n",
    "                  out_features,\n",
    "                  bias=True, p=0.5):\n",
    "        super().__init__()\n",
    "        self.linear = nn.Linear(in_features,\n",
    "                                out_features,\n",
    "                                bias)\n",
    "        self.relu = nn.ReLU()\n",
    "        self.drop = nn.Dropout(p)\n",
    "\n",
    "    def forward(self, x):\n",
    "        x = self.linear(x)\n",
    "        x = self.relu(x)\n",
    "        x = self.drop(x)\n",
    "        return x\n",
    "      \n",
    "mlp = nn.Sequential(\n",
    "    CustomLinear(64, 200),\n",
    "    CustomLinear(200, 200),\n",
    "    CustomLinear(200, 200),\n",
    "    nn.Linear(200, 10)\n",
    ")"
   ]
  },
  {
   "cell_type": "code",
   "execution_count": 11,
   "metadata": {
    "colab": {},
    "colab_type": "code",
    "id": "4fciRX3Q1_om"
   },
   "outputs": [],
   "source": [
    "class MyMLP(nn.Module):\n",
    "    def __init__(self, in_features,\n",
    "                  out_features):\n",
    "        super().__init__()\n",
    "        self.ln1 = CustomLinear(in_features, 200)\n",
    "        self.ln2 = CustomLinear(200, 200)\n",
    "        self.ln3 = CustomLinear(200, 200)\n",
    "        self.ln4 = CustomLinear(200, out_features)\n",
    "    \n",
    "    def forward(self, x):\n",
    "        x = self.ln1(x)\n",
    "        x = self.ln2(x)\n",
    "        x = self.ln3(x)\n",
    "        x = self.ln4(x)\n",
    "        return x\n",
    "      \n",
    "mlp = MyMLP(64, 10)"
   ]
  },
  {
   "cell_type": "code",
   "execution_count": null,
   "metadata": {},
   "outputs": [],
   "source": []
  }
 ],
 "metadata": {
  "accelerator": "GPU",
  "colab": {
   "collapsed_sections": [],
   "name": "pytorch_chapter3.ipynb",
   "provenance": [],
   "version": "0.3.2"
  },
  "kernelspec": {
   "display_name": "Python 3",
   "language": "python",
   "name": "python3"
  },
  "language_info": {
   "codemirror_mode": {
    "name": "ipython",
    "version": 3
   },
   "file_extension": ".py",
   "mimetype": "text/x-python",
   "name": "python",
   "nbconvert_exporter": "python",
   "pygments_lexer": "ipython3",
   "version": "3.6.8"
  }
 },
 "nbformat": 4,
 "nbformat_minor": 2
}
