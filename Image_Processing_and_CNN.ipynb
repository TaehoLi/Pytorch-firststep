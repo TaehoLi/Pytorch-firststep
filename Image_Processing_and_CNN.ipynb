{
 "cells": [
  {
   "cell_type": "code",
   "execution_count": 1,
   "metadata": {
    "colab": {},
    "colab_type": "code",
    "id": "lvFVDe0UMZur"
   },
   "outputs": [],
   "source": [
    "import torch\n",
    "from torch import nn, optim\n",
    "from torch.utils.data import (Dataset, DataLoader, TensorDataset)\n",
    "import tqdm\n",
    "\n",
    "from torchvision.datasets import FashionMNIST\n",
    "from torchvision import transforms\n",
    "\n",
    "# 훈련용 데이터 가져오기\n",
    "# 초기 상태에선 PIL（Python Imaging Library) 이미지 형식으로\n",
    "# Dataset를 만들어 버린다.\n",
    "# 따라서 transforms.ToTensor를 사용해 Tensor로 변환한다\n",
    "fashion_mnist_train = FashionMNIST(\"data\",\n",
    "    train=True, download=True,\n",
    "    transform=transforms.ToTensor())\n",
    "# 검증용 데이터 가져오기\n",
    "fashion_mnist_test = FashionMNIST(\"data\",\n",
    "    train=False, download=True,\n",
    "    transform=transforms.ToTensor())\n",
    "\n",
    "# 배치 크기가 128인 DataLoader를 각각 작성\n",
    "batch_size=128\n",
    "train_loader = DataLoader(fashion_mnist_train,\n",
    "                          batch_size=batch_size, shuffle=True)\n",
    "test_loader = DataLoader(fashion_mnist_test,\n",
    "                          batch_size=batch_size, shuffle=False)"
   ]
  },
  {
   "cell_type": "code",
   "execution_count": 2,
   "metadata": {
    "colab": {},
    "colab_type": "code",
    "id": "vhN99GhXQvBo"
   },
   "outputs": [],
   "source": [
    "# (N, C, H, W)혀익의 Tensor를(N, C*H*W)로 늘리는 계층\n",
    "# 합성곱 출력을 MLP에 전달할 때 필요\n",
    "class FlattenLayer(nn.Module):\n",
    "    def forward(self, x):\n",
    "        sizes = x.size()\n",
    "        return x.view(sizes[0], -1)\n",
    "\n",
    "# 5×5의 커널을 사용해서 처음에 32개, 다음에 64개의 채널 작성\n",
    "# BatchNorm2d는 이미지용 Batch Normalization\n",
    "# Dropout2d는 이미지용 Dropout\n",
    "# 마지막으로 FlattenLayer 적용\n",
    "conv_net = nn.Sequential(\n",
    "    nn.Conv2d(1, 32, 5),\n",
    "    nn.MaxPool2d(2),\n",
    "    nn.ReLU(),\n",
    "    nn.BatchNorm2d(32),\n",
    "    nn.Dropout2d(0.25),\n",
    "    nn.Conv2d(32, 64, 5),\n",
    "    nn.MaxPool2d(2),\n",
    "    nn.ReLU(),\n",
    "    nn.BatchNorm2d(64),\n",
    "    nn.Dropout2d(0.25),\n",
    "    FlattenLayer()\n",
    ")\n",
    "\n",
    "# 합성곱에 의해 최종적으로 이미지 크기가 어떤지를\n",
    "# 더미 데이터를 넣어서 확인한다\n",
    "\n",
    "test_input = torch.ones(1, 1, 28, 28)\n",
    "conv_output_size = conv_net(test_input).size()[-1]\n",
    "\n",
    "# 2층 MLP\n",
    "mlp = nn.Sequential(\n",
    "    nn.Linear(conv_output_size, 200),\n",
    "    nn.ReLU(),\n",
    "    nn.BatchNorm1d(200),\n",
    "    nn.Dropout(0.25),\n",
    "    nn.Linear(200, 10)\n",
    ")\n",
    "# 최종 CNN\n",
    "net = nn.Sequential(\n",
    "    conv_net,\n",
    "    mlp\n",
    ")"
   ]
  },
  {
   "cell_type": "code",
   "execution_count": 3,
   "metadata": {
    "colab": {},
    "colab_type": "code",
    "id": "Q75hiihnR7IW"
   },
   "outputs": [],
   "source": [
    "# 평가용 헬퍼 함수\n",
    "def eval_net(net, data_loader, device=\"cpu\"):\n",
    "    # Dropout 및 BatchNorm을 무효화\n",
    "    net.eval()\n",
    "    ys = []\n",
    "    ypreds = []\n",
    "    for x, y in data_loader:\n",
    "        # to 메서드로 계산을 실행할 디바이스로 전송\n",
    "        x = x.to(device)\n",
    "        y = y.to(device)\n",
    "        # 확률이 가장 큰 클래스를 예측(리스트 2.1 참조)\n",
    "        # 여기선 forward（추론） 계산이 전부이므로 자동 미분에\n",
    "        # 필요한 처리는 off로 설정해서 불필요한 계산을 제한다\n",
    "        with torch.no_grad():\n",
    "            _, y_pred = net(x).max(1)\n",
    "        ys.append(y)\n",
    "        ypreds.append(y_pred)\n",
    "    \n",
    "    # 미니 배치 단위의 예측 결과 등을 하나로 묶는다\n",
    "    ys = torch.cat(ys)\n",
    "    ypreds = torch.cat(ypreds)\n",
    "    # 예측 정확도 계산\n",
    "    acc = (ys == ypreds).float().sum() / len(ys)\n",
    "    return acc.item()\n",
    "\n",
    "# 훈련용 헬퍼 함수\n",
    "def train_net(net, train_loader, test_loader,\n",
    "              optimizer_cls=optim.Adam,\n",
    "              loss_fn=nn.CrossEntropyLoss(),\n",
    "              n_iter=10, device=\"cpu\"):\n",
    "    train_losses = []\n",
    "    train_acc = []\n",
    "    val_acc = []\n",
    "    optimizer = optimizer_cls(net.parameters())\n",
    "    for epoch in range(n_iter):\n",
    "        running_loss = 0.0\n",
    "        # 신경망을 훈련 모드로 설정\n",
    "        net.train()\n",
    "        n = 0\n",
    "        n_acc = 0\n",
    "        # 시간이 많이 걸리므로 tqdm을 사용해서 진행바를 표시\n",
    "        for i, (xx, yy) in tqdm.tqdm(enumerate(train_loader),\n",
    "            total=len(train_loader)):\n",
    "            xx = xx.to(device)\n",
    "            yy = yy.to(device)\n",
    "            h = net(xx)\n",
    "            loss = loss_fn(h, yy)\n",
    "            optimizer.zero_grad()\n",
    "            loss.backward()\n",
    "            optimizer.step()\n",
    "            running_loss += loss.item()\n",
    "            n += len(xx)\n",
    "            _, y_pred = h.max(1)\n",
    "            n_acc += (yy == y_pred).float().sum().item()\n",
    "        train_losses.append(running_loss / i)\n",
    "        # 훈련 데이터의 예측 정확도\n",
    "        train_acc.append(n_acc / n)\n",
    "\n",
    "        # 검증 데이터의 예측 정확도\n",
    "        val_acc.append(eval_net(net, test_loader, device))\n",
    "        # epoch의 결과 표시\n",
    "        print(epoch, train_losses[-1], train_acc[-1],\n",
    "            val_acc[-1], flush=True)"
   ]
  },
  {
   "cell_type": "code",
   "execution_count": 4,
   "metadata": {
    "colab": {},
    "colab_type": "code",
    "id": "Enm-ezB5UbQ2"
   },
   "outputs": [
    {
     "name": "stderr",
     "output_type": "stream",
     "text": [
      "100%|██████████| 469/469 [00:07<00:00, 66.65it/s]\n"
     ]
    },
    {
     "name": "stdout",
     "output_type": "stream",
     "text": [
      "0 0.4761524771650632 0.8326833333333333 0.8709999918937683\n"
     ]
    },
    {
     "name": "stderr",
     "output_type": "stream",
     "text": [
      "100%|██████████| 469/469 [00:06<00:00, 68.92it/s]\n"
     ]
    },
    {
     "name": "stdout",
     "output_type": "stream",
     "text": [
      "1 0.3171171575275242 0.8841 0.890999972820282\n"
     ]
    },
    {
     "name": "stderr",
     "output_type": "stream",
     "text": [
      "100%|██████████| 469/469 [00:06<00:00, 67.70it/s]\n"
     ]
    },
    {
     "name": "stdout",
     "output_type": "stream",
     "text": [
      "2 0.28189570899320465 0.8970833333333333 0.9021999835968018\n"
     ]
    },
    {
     "name": "stderr",
     "output_type": "stream",
     "text": [
      "100%|██████████| 469/469 [00:06<00:00, 67.11it/s]\n"
     ]
    },
    {
     "name": "stdout",
     "output_type": "stream",
     "text": [
      "3 0.2640143510622856 0.9029833333333334 0.9085999727249146\n"
     ]
    },
    {
     "name": "stderr",
     "output_type": "stream",
     "text": [
      "100%|██████████| 469/469 [00:06<00:00, 68.30it/s]\n"
     ]
    },
    {
     "name": "stdout",
     "output_type": "stream",
     "text": [
      "4 0.24395483195718026 0.9094 0.9075999855995178\n"
     ]
    }
   ],
   "source": [
    "# 신경망의 모든 파라미터를 GPU로 전송\n",
    "net.to(\"cuda:0\")\n",
    "\n",
    "# 훈련 실행\n",
    "train_net(net, train_loader, test_loader, n_iter=5, \n",
    "device=\"cuda:0\")"
   ]
  },
  {
   "cell_type": "code",
   "execution_count": 5,
   "metadata": {
    "colab": {},
    "colab_type": "code",
    "id": "iwixgd8_yx0p"
   },
   "outputs": [],
   "source": [
    "#!wget https://github.com/lucidfrontier45/PyTorch-Book/raw/master/data/taco_and_burrito.tar.gz\n",
    "#!tar -zxvf taco_and_burrito.tar.gz"
   ]
  },
  {
   "cell_type": "code",
   "execution_count": 6,
   "metadata": {
    "colab": {},
    "colab_type": "code",
    "id": "uONLL0BR0304"
   },
   "outputs": [],
   "source": [
    "from torchvision.datasets import ImageFolder\n",
    "from torchvision import transforms\n",
    "\n",
    "# ImageFolder 함수를 사용해서 Dataset 작성\n",
    "train_imgs = ImageFolder(\"data/taco_and_burrito/train/\",\n",
    "    transform=transforms.Compose([\n",
    "        transforms.RandomCrop(224),\n",
    "        transforms.ToTensor()]\n",
    "))\n",
    "test_imgs = ImageFolder(\"data/taco_and_burrito/test/\",\n",
    "    transform=transforms.Compose([\n",
    "        transforms.CenterCrop(224),\n",
    "        transforms.ToTensor()]\n",
    "))\n",
    "\n",
    "# DataLoader 작성\n",
    "train_loader = DataLoader(\n",
    "    train_imgs, batch_size=32, shuffle=True)\n",
    "test_loader = DataLoader(\n",
    "    test_imgs, batch_size=32, shuffle=False)"
   ]
  },
  {
   "cell_type": "code",
   "execution_count": 7,
   "metadata": {
    "colab": {
     "base_uri": "https://localhost:8080/",
     "height": 35
    },
    "colab_type": "code",
    "executionInfo": {
     "elapsed": 670,
     "status": "ok",
     "timestamp": 1545980268406,
     "user": {
      "displayName": "winston kim",
      "photoUrl": "",
      "userId": "05942964544969189760"
     },
     "user_tz": -480
    },
    "id": "krw4i3xr2lVd",
    "outputId": "62089e56-8f30-4bec-cd55-3f1dba11909e"
   },
   "outputs": [
    {
     "name": "stdout",
     "output_type": "stream",
     "text": [
      "['burrito', 'taco']\n"
     ]
    }
   ],
   "source": [
    "print(train_imgs.classes)"
   ]
  },
  {
   "cell_type": "code",
   "execution_count": 8,
   "metadata": {
    "colab": {
     "base_uri": "https://localhost:8080/",
     "height": 35
    },
    "colab_type": "code",
    "executionInfo": {
     "elapsed": 746,
     "status": "ok",
     "timestamp": 1545980271115,
     "user": {
      "displayName": "winston kim",
      "photoUrl": "",
      "userId": "05942964544969189760"
     },
     "user_tz": -480
    },
    "id": "QAzHsj7s2v6J",
    "outputId": "4a27129a-b141-47a9-8a1e-212efccee81c"
   },
   "outputs": [
    {
     "name": "stdout",
     "output_type": "stream",
     "text": [
      "{'burrito': 0, 'taco': 1}\n"
     ]
    }
   ],
   "source": [
    "print(train_imgs.class_to_idx)"
   ]
  },
  {
   "cell_type": "code",
   "execution_count": 9,
   "metadata": {
    "colab": {
     "base_uri": "https://localhost:8080/",
     "height": 73
    },
    "colab_type": "code",
    "executionInfo": {
     "elapsed": 2232,
     "status": "ok",
     "timestamp": 1545980277823,
     "user": {
      "displayName": "winston kim",
      "photoUrl": "",
      "userId": "05942964544969189760"
     },
     "user_tz": -480
    },
    "id": "4SgesxLz5TRd",
    "outputId": "1aee30e6-eaed-4cbe-f3b0-7490fd0f93f8"
   },
   "outputs": [],
   "source": [
    "from torchvision import models\n",
    "\n",
    "# 사전 학습이 완료된 resnet18 불러오기\n",
    "net = models.resnet18(pretrained=True)\n",
    "\n",
    "# 모든 파라미터를 미분 대상에서 제외한다\n",
    "for p in net.parameters():\n",
    "    p.requires_grad=False\n",
    "\n",
    "# 마지막 선형 계층을 변경한다\n",
    "fc_input_dim = net.fc.in_features\n",
    "net.fc = nn.Linear(fc_input_dim, 2)"
   ]
  },
  {
   "cell_type": "code",
   "execution_count": 10,
   "metadata": {
    "colab": {},
    "colab_type": "code",
    "id": "SHXPewK_6MK-"
   },
   "outputs": [],
   "source": [
    "def eval_net(net, data_loader, device=\"cpu\"):\n",
    "    # Dropout 및 BatchNorm을 무효화\n",
    "    net.eval()\n",
    "    ys = []\n",
    "    ypreds = []\n",
    "    for x, y in data_loader:\n",
    "        # to 메서드로 계산을 실행할 디바이스로 전송\n",
    "        x = x.to(device)\n",
    "        y = y.to(device)\n",
    "        # 확률이 가장 큰 클래스를 예측(리스트 2.1 참조)\n",
    "        # 여기선 forward（추론） 계산이 전부이므로 자동 미분에\n",
    "        # 필요한 처리는 off로 설정해서 불필요한 계산을 제한다\n",
    "        with torch.no_grad():\n",
    "            _, y_pred = net(x).max(1)\n",
    "        ys.append(y)\n",
    "        ypreds.append(y_pred)\n",
    "    \n",
    "    # 미니 배치 단위의 예측 결과 등을 하나로 묶는다\n",
    "    ys = torch.cat(ys)\n",
    "    ypreds = torch.cat(ypreds)\n",
    "    # 예측 정확도 계산\n",
    "    acc = (ys == ypreds).float().sum() / len(ys)\n",
    "    return acc.item()\n",
    "\n",
    "def train_net(net, train_loader, test_loader,only_fc=True,\n",
    "              optimizer_cls=optim.Adam,\n",
    "              loss_fn=nn.CrossEntropyLoss(),\n",
    "              n_iter=10, device=\"cpu\"):\n",
    "    train_losses = []\n",
    "    train_acc = []\n",
    "    val_acc = []\n",
    "    if only_fc:\n",
    "        # 마지막 선형 계층의 파라미터만\n",
    "        # optimizer에 전달\n",
    "        optimizer = optimizer_cls(net.fc.parameters())\n",
    "    else:\n",
    "        optimizer = optimizer_cls(net.parameters())\n",
    "    for epoch in range(n_iter):\n",
    "        running_loss = 0.0\n",
    "        # 신경망을 훈련 모드로 설정\n",
    "        net.train()\n",
    "        n = 0\n",
    "        n_acc = 0\n",
    "        # 시간이 많이 걸리므로 tqdm을 사용해서 진행바를 표시\n",
    "        for i, (xx, yy) in tqdm.tqdm(enumerate(train_loader),\n",
    "            total=len(train_loader)):\n",
    "            xx = xx.to(device)\n",
    "            yy = yy.to(device)\n",
    "            h = net(xx)\n",
    "            loss = loss_fn(h, yy)\n",
    "            optimizer.zero_grad()\n",
    "            loss.backward()\n",
    "            optimizer.step()\n",
    "            running_loss += loss.item()\n",
    "            n += len(xx)\n",
    "            _, y_pred = h.max(1)\n",
    "            n_acc += (yy == y_pred).float().sum().item()\n",
    "        train_losses.append(running_loss / i)\n",
    "        # 훈련 데이터의 예측 정확도\n",
    "        train_acc.append(n_acc / n)\n",
    "\n",
    "        # 검증 데이터의 예측 정확도\n",
    "        val_acc.append(eval_net(net, test_loader, device))\n",
    "        # epoch의 결과 표시\n",
    "        print(epoch, train_losses[-1], train_acc[-1],\n",
    "            val_acc[-1], flush=True)\n"
   ]
  },
  {
   "cell_type": "code",
   "execution_count": 11,
   "metadata": {
    "colab": {
     "base_uri": "https://localhost:8080/",
     "height": 737
    },
    "colab_type": "code",
    "executionInfo": {
     "elapsed": 140153,
     "status": "ok",
     "timestamp": 1545980429354,
     "user": {
      "displayName": "winston kim",
      "photoUrl": "",
      "userId": "05942964544969189760"
     },
     "user_tz": -480
    },
    "id": "FtvRRkUfIKGe",
    "outputId": "72b24aba-5acf-4956-d003-15baed7ba41d"
   },
   "outputs": [
    {
     "name": "stderr",
     "output_type": "stream",
     "text": [
      "100%|██████████| 23/23 [00:03<00:00,  6.09it/s]\n"
     ]
    },
    {
     "name": "stdout",
     "output_type": "stream",
     "text": [
      "0 0.7601923102682288 0.5337078651685393 0.6666666865348816\n"
     ]
    },
    {
     "name": "stderr",
     "output_type": "stream",
     "text": [
      "100%|██████████| 23/23 [00:02<00:00,  7.72it/s]\n"
     ]
    },
    {
     "name": "stdout",
     "output_type": "stream",
     "text": [
      "1 0.5702219564806331 0.7359550561797753 0.8000000715255737\n"
     ]
    },
    {
     "name": "stderr",
     "output_type": "stream",
     "text": [
      "100%|██████████| 23/23 [00:03<00:00,  6.34it/s]\n"
     ]
    },
    {
     "name": "stdout",
     "output_type": "stream",
     "text": [
      "2 0.4868548498912291 0.7921348314606742 0.8000000715255737\n"
     ]
    },
    {
     "name": "stderr",
     "output_type": "stream",
     "text": [
      "100%|██████████| 23/23 [00:03<00:00,  7.30it/s]\n"
     ]
    },
    {
     "name": "stdout",
     "output_type": "stream",
     "text": [
      "3 0.43725648386911914 0.824438202247191 0.8666667342185974\n"
     ]
    },
    {
     "name": "stderr",
     "output_type": "stream",
     "text": [
      "100%|██████████| 23/23 [00:02<00:00,  9.09it/s]\n"
     ]
    },
    {
     "name": "stdout",
     "output_type": "stream",
     "text": [
      "4 0.41264602541923523 0.8384831460674157 0.8500000238418579\n"
     ]
    }
   ],
   "source": [
    "# 신경망의 모든 파라미터를 GPU로 전송\n",
    "net.to(\"cuda:0\")\n",
    "# 훈련 실행\n",
    "train_net(net, train_loader, test_loader, n_iter=5, device=\"cuda:0\")\n"
   ]
  },
  {
   "cell_type": "code",
   "execution_count": 12,
   "metadata": {
    "colab": {},
    "colab_type": "code",
    "id": "VTKiVv528KlC"
   },
   "outputs": [],
   "source": [
    "#!wget http://vis-www.cs.umass.edu/lfw/lfw-deepfunneled.tgz\n",
    "#!tar xf lfw-deepfunneled.tgz"
   ]
  },
  {
   "cell_type": "code",
   "execution_count": 13,
   "metadata": {
    "colab": {},
    "colab_type": "code",
    "id": "dZ47F_0vJ2v7"
   },
   "outputs": [],
   "source": [
    "#!mkdir lfw-deepfunneled/train\n",
    "#!mv lfw-deepfunneled/[A-W]* lfw-deepfunneled/train"
   ]
  },
  {
   "cell_type": "code",
   "execution_count": 14,
   "metadata": {
    "colab": {},
    "colab_type": "code",
    "id": "G2btacquJR2u"
   },
   "outputs": [],
   "source": [
    "#!mkdir lfw-deepfunneled/test\n",
    "#!mv lfw-deepfunneled/[X-Z]* lfw-deepfunneled/test"
   ]
  },
  {
   "cell_type": "code",
   "execution_count": 15,
   "metadata": {
    "colab": {},
    "colab_type": "code",
    "id": "AflmKVIGMOkr"
   },
   "outputs": [],
   "source": [
    "class DownSizedPairImageFolder(ImageFolder):\n",
    "    def __init__(self, root, transform=None, \n",
    "                 large_size=128, small_size=32, **kwds):\n",
    "        super().__init__(root, transform=transform, **kwds)\n",
    "        self.large_resizer = transforms.Resize(large_size)\n",
    "        self.small_resizer = transforms.Resize(small_size)\n",
    "        \n",
    "    def __getitem__(self, index):\n",
    "        path, _ = self.imgs[index]\n",
    "        img = self.loader(path)\n",
    "        \n",
    "        # 읽은 이미지를 128×128픽셀과 32×32픽셀로 리사이즈\n",
    "        large_img = self.large_resizer(img)\n",
    "        small_img = self.small_resizer(img)\n",
    "            \n",
    "        # 기타 변환 적용\n",
    "        if self.transform is not None:\n",
    "            large_img = self.transform(large_img)\n",
    "            small_img = self.transform(small_img)\n",
    "        \n",
    "        # 32픽셀의 이미지와 128픽셀의 이미지 반환\n",
    "        return small_img, large_img\n"
   ]
  },
  {
   "cell_type": "code",
   "execution_count": 16,
   "metadata": {
    "colab": {},
    "colab_type": "code",
    "id": "2G5U9V5zNOsP"
   },
   "outputs": [],
   "source": [
    "train_data = DownSizedPairImageFolder(\n",
    "    \"data/lfw-deepfunneled/train\",\n",
    "    transform=transforms.ToTensor())\n",
    "test_data = DownSizedPairImageFolder(\n",
    "    \"data/lfw-deepfunneled/test\",\n",
    "    transform=transforms.ToTensor())\n",
    "batch_size = 32\n",
    "train_loader = DataLoader(train_data, batch_size=batch_size, \n",
    "                          shuffle=True, num_workers=4)\n",
    "test_loader = DataLoader(test_data, batch_size=batch_size,\n",
    "                         shuffle=False, num_workers=4)"
   ]
  },
  {
   "cell_type": "code",
   "execution_count": 17,
   "metadata": {
    "colab": {},
    "colab_type": "code",
    "id": "U3DE3rJbU9WA"
   },
   "outputs": [],
   "source": [
    "net = nn.Sequential(\n",
    "    nn.Conv2d(3, 256, 4,\n",
    "              stride=2, padding=1),\n",
    "    nn.ReLU(),\n",
    "    nn.BatchNorm2d(256),\n",
    "    nn.Conv2d(256, 512, 4,\n",
    "              stride=2, padding=1),\n",
    "    nn.ReLU(),\n",
    "    nn.BatchNorm2d(512),\n",
    "    nn.ConvTranspose2d(512, 256, 4,\n",
    "                       stride=2, padding=1),\n",
    "    nn.ReLU(),\n",
    "    nn.BatchNorm2d(256),\n",
    "    nn.ConvTranspose2d(256, 128, 4,\n",
    "                       stride=2, padding=1),\n",
    "    nn.ReLU(),\n",
    "    nn.BatchNorm2d(128),\n",
    "    nn.ConvTranspose2d(128, 64, 4,\n",
    "                       stride=2, padding=1),\n",
    "    nn.ReLU(),\n",
    "    nn.BatchNorm2d(64),\n",
    "    nn.ConvTranspose2d(64, 3, 4,\n",
    "                       stride=2, padding=1)\n",
    ")"
   ]
  },
  {
   "cell_type": "code",
   "execution_count": 18,
   "metadata": {
    "colab": {},
    "colab_type": "code",
    "id": "1Mx3RclZckn9"
   },
   "outputs": [],
   "source": [
    "import math\n",
    "\n",
    "def psnr(mse, max_v=1.0):\n",
    "    return 10 * math.log10(max_v**2 / mse)\n",
    "\n",
    "# 평가 헬퍼 함수\n",
    "def eval_net(net, data_loader, device=\"cpu\"):\n",
    "    # Dropout 및 BatchNorm을 무효화\n",
    "    net.eval()\n",
    "    ys = []\n",
    "    ypreds = []\n",
    "    for x, y in data_loader:\n",
    "        x = x.to(device)\n",
    "        y = y.to(device)\n",
    "        with torch.no_grad():\n",
    "            y_pred = net(x)\n",
    "        ys.append(y)\n",
    "        ypreds.append(y_pred)\n",
    "    # 미니 배치 단위로 예측 결과 등을 하나로 모은다\n",
    "    ys = torch.cat(ys)\n",
    "    ypreds = torch.cat(ypreds)\n",
    "    # 예측 정확도(MSE) 계산\n",
    "    score = nn.functional.mse_loss(ypreds, ys).item()\n",
    "    return score\n",
    "\n",
    "# 훈련 헬퍼 함수\n",
    "def train_net(net, train_loader, test_loader,\n",
    "              optimizer_cls=optim.Adam,\n",
    "              loss_fn=nn.MSELoss(),\n",
    "              n_iter=10, device=\"cpu\"):\n",
    "    train_losses = []\n",
    "    train_acc = []\n",
    "    val_acc = []\n",
    "    optimizer = optimizer_cls(net.parameters())\n",
    "    for epoch in range(n_iter):\n",
    "        running_loss = 0.0\n",
    "        # 신경망을 훈련 모드로 설정\n",
    "        net.train()\n",
    "        n = 0\n",
    "        score = 0\n",
    "        # 시간이 많이 걸리므로 tqdm를 이용해서\n",
    "        # 진행바 표시\n",
    "        for i, (xx, yy) in tqdm.tqdm(enumerate(train_loader),\n",
    "                                     total=len(train_loader)):\n",
    "            xx = xx.to(device)\n",
    "            yy = yy.to(device)\n",
    "            y_pred = net(xx)\n",
    "            loss = loss_fn(y_pred, yy)\n",
    "            optimizer.zero_grad()\n",
    "            loss.backward()\n",
    "            optimizer.step()\n",
    "            running_loss += loss.item()\n",
    "            n += len(xx)\n",
    "        train_losses.append(running_loss / len(train_loader))\n",
    "        # 검증 데이터의 훈련 정확도\n",
    "        val_acc.append(eval_net(net, test_loader, device))\n",
    "        # epoch의 결과 표시\n",
    "        print(epoch, train_losses[-1], \n",
    "              psnr(train_losses[-1]), psnr(val_acc[-1]), flush=True)"
   ]
  },
  {
   "cell_type": "code",
   "execution_count": 19,
   "metadata": {
    "colab": {
     "base_uri": "https://localhost:8080/",
     "height": 377
    },
    "colab_type": "code",
    "executionInfo": {
     "elapsed": 561397,
     "status": "ok",
     "timestamp": 1545981387599,
     "user": {
      "displayName": "winston kim",
      "photoUrl": "",
      "userId": "05942964544969189760"
     },
     "user_tz": -480
    },
    "id": "o5MHkDy_dY5N",
    "outputId": "219c7831-8191-430a-b3b2-6dbcdbd05110"
   },
   "outputs": [
    {
     "name": "stderr",
     "output_type": "stream",
     "text": [
      "100%|██████████| 409/409 [00:31<00:00, 14.32it/s]\n"
     ]
    },
    {
     "name": "stdout",
     "output_type": "stream",
     "text": [
      "0 0.027905049161133892 15.543172080374708 23.46093991386274\n"
     ]
    },
    {
     "name": "stderr",
     "output_type": "stream",
     "text": [
      "100%|██████████| 409/409 [00:30<00:00, 14.35it/s]\n"
     ]
    },
    {
     "name": "stdout",
     "output_type": "stream",
     "text": [
      "1 0.003883589052283239 24.107667318454084 25.36660026137121\n"
     ]
    },
    {
     "name": "stderr",
     "output_type": "stream",
     "text": [
      "100%|██████████| 409/409 [00:30<00:00, 14.33it/s]\n"
     ]
    },
    {
     "name": "stdout",
     "output_type": "stream",
     "text": [
      "2 0.0031243466156191013 25.05240791407953 25.796115088455277\n"
     ]
    },
    {
     "name": "stderr",
     "output_type": "stream",
     "text": [
      "100%|██████████| 409/409 [00:30<00:00, 14.29it/s]\n"
     ]
    },
    {
     "name": "stdout",
     "output_type": "stream",
     "text": [
      "3 0.00287690444013746 25.410745634868867 26.324373719733188\n"
     ]
    },
    {
     "name": "stderr",
     "output_type": "stream",
     "text": [
      "100%|██████████| 409/409 [00:30<00:00, 14.35it/s]\n"
     ]
    },
    {
     "name": "stdout",
     "output_type": "stream",
     "text": [
      "4 0.0026764646129828393 25.724384942898453 26.06078850987177\n"
     ]
    }
   ],
   "source": [
    "net.to(\"cuda:0\")\n",
    "train_net(net, train_loader, test_loader, n_iter=5, device=\"cuda:0\")"
   ]
  },
  {
   "cell_type": "code",
   "execution_count": 20,
   "metadata": {
    "colab": {
     "base_uri": "https://localhost:8080/",
     "height": 73
    },
    "colab_type": "code",
    "executionInfo": {
     "elapsed": 688,
     "status": "ok",
     "timestamp": 1545981810228,
     "user": {
      "displayName": "winston kim",
      "photoUrl": "",
      "userId": "05942964544969189760"
     },
     "user_tz": -480
    },
    "id": "O2ZyXF-cjPjU",
    "outputId": "f075fe94-5013-4c6b-d894-ef9e662900ae"
   },
   "outputs": [],
   "source": [
    "from torchvision.utils import save_image\n",
    "\n",
    "# 테스트 데이터로부터 랜덤으로 4개씩 추출하는 DataLoader\n",
    "random_test_loader = DataLoader(test_data, batch_size=4, shuffle=True)\n",
    "# DataLoader를 파이썬의 이터레이터로 변환해서 4개의 예로 추출\n",
    "it = iter(random_test_loader)\n",
    "x, y = next(it)\n",
    "\n",
    "# Bilinear를 사용한 확대\n",
    "bl_recon = torch.nn.functional.interpolate(x, 128, mode=\"bilinear\", align_corners=True)\n",
    "# CNN으로 확대\n",
    "yp = net(x.to(\"cuda:0\")).to(\"cpu\")\n",
    "\n",
    "# torch.cat로 원본, Bilinear,CNN 이미지를 결합하고\n",
    "# save_image로 결합한 이미지를 출력(저장)\n",
    "save_image(torch.cat([y, bl_recon, yp], 0), \"cnn_upscale.jpg\", nrow=4)"
   ]
  },
  {
   "cell_type": "code",
   "execution_count": 21,
   "metadata": {
    "colab": {
     "base_uri": "https://localhost:8080/",
     "height": 409
    },
    "colab_type": "code",
    "executionInfo": {
     "elapsed": 1471,
     "status": "ok",
     "timestamp": 1544687956783,
     "user": {
      "displayName": "winston kim",
      "photoUrl": "",
      "userId": "05942964544969189760"
     },
     "user_tz": -480
    },
    "id": "z8tdXXCak4cY",
    "outputId": "c7be9ee0-7e2a-4b51-b934-d220d9ec9018"
   },
   "outputs": [
    {
     "data": {
      "image/jpeg": "[encoded data removed]"
     },
     "metadata": {},
     "output_type": "display_data"
    }
   ],
   "source": [
    "from IPython.display import Image,display_jpeg\n",
    "display_jpeg(Image('cnn_upscale.jpg'))"
   ]
  },
  {
   "cell_type": "code",
   "execution_count": 22,
   "metadata": {
    "colab": {
     "base_uri": "https://localhost:8080/",
     "height": 235
    },
    "colab_type": "code",
    "executionInfo": {
     "elapsed": 34351,
     "status": "ok",
     "timestamp": 1545981853330,
     "user": {
      "displayName": "winston kim",
      "photoUrl": "",
      "userId": "05942964544969189760"
     },
     "user_tz": -480
    },
    "id": "QMr-XIklvTtd",
    "outputId": "559c0fc7-8584-4a4f-931b-9c3c64908fe7"
   },
   "outputs": [],
   "source": [
    "#!wget http://www.robots.ox.ac.uk/~vgg/data/flowers/102/102flowers.tgz\n",
    "#!tar xf 102flowers.tgz\n",
    "#!mkdir oxford-102\n",
    "#!mkdir oxford-102/jpg\n",
    "#!mv jpg/*.jpg oxford-102/jpg"
   ]
  },
  {
   "cell_type": "code",
   "execution_count": 23,
   "metadata": {
    "colab": {},
    "colab_type": "code",
    "id": "z49F4ufXxnEg"
   },
   "outputs": [],
   "source": [
    "img_data = ImageFolder(\"data/oxford-102/\",\n",
    "    transform=transforms.Compose([\n",
    "        transforms.Resize(80),\n",
    "        transforms.CenterCrop(64),\n",
    "        transforms.ToTensor()\n",
    "]))\n",
    "\n",
    "batch_size = 64\n",
    "img_loader = DataLoader(img_data, batch_size=batch_size,\n",
    "                        shuffle=True)"
   ]
  },
  {
   "cell_type": "code",
   "execution_count": 24,
   "metadata": {
    "colab": {},
    "colab_type": "code",
    "id": "LN78J0bIzhAH"
   },
   "outputs": [],
   "source": [
    "nz = 100\n",
    "ngf = 32\n",
    "class GNet(nn.Module):\n",
    "    def __init__(self):\n",
    "        super().__init__()\n",
    "        self.main = nn.Sequential(\n",
    "            nn.ConvTranspose2d(nz, ngf * 8, \n",
    "                               4, 1, 0, bias=False),\n",
    "            nn.BatchNorm2d(ngf * 8),\n",
    "            nn.ReLU(inplace=True),\n",
    "            nn.ConvTranspose2d(ngf * 8, ngf * 4,\n",
    "                               4, 2, 1, bias=False),\n",
    "            nn.BatchNorm2d(ngf * 4),\n",
    "            nn.ReLU(inplace=True),\n",
    "            nn.ConvTranspose2d(ngf * 4, ngf * 2,\n",
    "                               4, 2, 1, bias=False),\n",
    "            nn.BatchNorm2d(ngf * 2),\n",
    "            nn.ReLU(inplace=True),\n",
    "            nn.ConvTranspose2d(ngf * 2, ngf,\n",
    "                               4, 2, 1, bias=False),\n",
    "            nn.BatchNorm2d(ngf),\n",
    "            nn.ReLU(inplace=True),\n",
    "            nn.ConvTranspose2d(ngf, 3,\n",
    "                               4, 2, 1, bias=False),\n",
    "            nn.Tanh()\n",
    "        )\n",
    "        \n",
    "    def forward(self, x):\n",
    "        out = self.main(x)\n",
    "        return out\n"
   ]
  },
  {
   "cell_type": "code",
   "execution_count": 25,
   "metadata": {
    "colab": {},
    "colab_type": "code",
    "id": "875Bn0gQ4tsR"
   },
   "outputs": [],
   "source": [
    "ndf = 32\n",
    "\n",
    "class DNet(nn.Module):\n",
    "    def __init__(self):\n",
    "        super().__init__()\n",
    "        self.main = nn.Sequential(\n",
    "            nn.Conv2d(3, ndf, 4, 2, 1, bias=False),\n",
    "            nn.LeakyReLU(0.2, inplace=True),\n",
    "            nn.Conv2d(ndf, ndf * 2, 4, 2, 1, bias=False),\n",
    "            nn.BatchNorm2d(ndf * 2),\n",
    "            nn.LeakyReLU(0.2, inplace=True),\n",
    "            nn.Conv2d(ndf * 2, ndf * 4, 4, 2, 1, bias=False),\n",
    "            nn.BatchNorm2d(ndf * 4),\n",
    "            nn.LeakyReLU(0.2, inplace=True),\n",
    "            nn.Conv2d(ndf * 4, ndf * 8, 4, 2, 1, bias=False),\n",
    "            nn.BatchNorm2d(ndf * 8),\n",
    "            nn.LeakyReLU(0.2, inplace=True),\n",
    "            nn.Conv2d(ndf * 8, 1, 4, 1, 0, bias=False),\n",
    "        )\n",
    "    \n",
    "    def forward(self, x):\n",
    "        out = self.main(x)\n",
    "        return out.squeeze()\n"
   ]
  },
  {
   "cell_type": "code",
   "execution_count": 26,
   "metadata": {
    "colab": {},
    "colab_type": "code",
    "id": "MPmNU0vB6Z-W"
   },
   "outputs": [],
   "source": [
    "d = DNet().to(\"cuda:0\")\n",
    "g = GNet().to(\"cuda:0\")\n",
    "\n",
    "# Adam의 파라미터는 원 논문에서 제안하는 값\n",
    "opt_d = optim.Adam(d.parameters(),\n",
    "    lr=0.0002, betas=(0.5, 0.999))\n",
    "opt_g = optim.Adam(g.parameters(),\n",
    "    lr=0.0002, betas=(0.5, 0.999))\n",
    "\n",
    "# 크로스 엔트로피를 계산하기 위한 보조 변수 등\n",
    "ones = torch.ones(batch_size).to(\"cuda:0\")\n",
    "zeros = torch.zeros(batch_size).to(\"cuda:0\")\n",
    "loss_f = nn.BCEWithLogitsLoss()\n",
    "\n",
    "# 모니터링용 z\n",
    "fixed_z = torch.randn(batch_size, nz, 1, 1).to(\"cuda:0\")\n"
   ]
  },
  {
   "cell_type": "code",
   "execution_count": 27,
   "metadata": {
    "colab": {},
    "colab_type": "code",
    "id": "8twGy8d565lD"
   },
   "outputs": [],
   "source": [
    "from statistics import mean\n",
    "\n",
    "def train_dcgan(g, d, opt_g, opt_d, loader):\n",
    "    # 생성 모델, 식별 모델의 목적 함수 추적용 배열\n",
    "    log_loss_g = []\n",
    "    log_loss_d = []\n",
    "    for real_img, _ in tqdm.tqdm(loader):\n",
    "        batch_len = len(real_img)\n",
    "        \n",
    "        # 실제 이미지를 GPU로 복사\n",
    "        real_img = real_img.to(\"cuda:0\")\n",
    "        \n",
    "        # 가짜 이미지를 난수와 생성 모델을 사용해 만든다\n",
    "        z = torch.randn(batch_len, nz, 1, 1).to(\"cuda:0\")\n",
    "        fake_img = g(z)\n",
    "        \n",
    "        # 나중에 사용하기 위해서 가짜 아미지의 값만 별도로 저장해둠\n",
    "        fake_img_tensor = fake_img.detach()\n",
    "        \n",
    "        # 가짜 이미지에 대한 생성 모델의 평가 함수 계산\n",
    "        out = d(fake_img)\n",
    "        loss_g = loss_f(out, ones[: batch_len])\n",
    "        log_loss_g.append(loss_g.item())\n",
    "\n",
    "        # 계산 그래프가 생성 모델과 식별 모델 양쪽에\n",
    "        # 의존하므로 양쪽 모두 경사하강을 끝낸 후에\n",
    "        # 미분 계산과 파라미터 갱신을 실시\n",
    "        d.zero_grad(), g.zero_grad()\n",
    "        loss_g.backward()\n",
    "        opt_g.step()\n",
    "        \n",
    "        #실제 이미지에 대한 식별 모델의 평가 함수 계산\n",
    "        real_out = d(real_img)\n",
    "        loss_d_real = loss_f(real_out, ones[: batch_len])\n",
    "        \n",
    "        # PyTorch에선 동일 Tensor를 포함한 계산 그래프에\n",
    "        # 2회 backward를 할 수 없으므로 저장된 Tensor를\n",
    "        # 사용해서 불필요한 계산은 생략\n",
    "        fake_img = fake_img_tensor\n",
    "        \n",
    "        # 가짜 아미지에 대한 식별 모델의 평가 함수 계산\n",
    "        fake_out = d(fake_img_tensor)\n",
    "        loss_d_fake = loss_f(fake_out, zeros[: batch_len])\n",
    "        \n",
    "        # 진위 평가 함수의 합계\n",
    "        loss_d = loss_d_real + loss_d_fake\n",
    "        log_loss_d.append(loss_d.item())\n",
    "        \n",
    "        # 식별 모델의 미분 계산고 파라미터 갱신\n",
    "        d.zero_grad(), g.zero_grad()\n",
    "        loss_d.backward()\n",
    "        opt_d.step()\n",
    "                                             \n",
    "    return mean(log_loss_g), mean(log_loss_d)\n"
   ]
  },
  {
   "cell_type": "code",
   "execution_count": 28,
   "metadata": {
    "colab": {},
    "colab_type": "code",
    "id": "2f6z-kS79Eln"
   },
   "outputs": [
    {
     "name": "stderr",
     "output_type": "stream",
     "text": [
      "100%|██████████| 128/128 [00:43<00:00,  3.03it/s]\n",
      "100%|██████████| 128/128 [00:40<00:00,  3.16it/s]\n",
      "100%|██████████| 128/128 [00:40<00:00,  3.15it/s]\n",
      "100%|██████████| 128/128 [00:40<00:00,  3.18it/s]\n",
      "100%|██████████| 128/128 [00:40<00:00,  3.19it/s]\n",
      "100%|██████████| 128/128 [00:40<00:00,  3.16it/s]\n",
      "100%|██████████| 128/128 [00:40<00:00,  3.17it/s]\n",
      "100%|██████████| 128/128 [00:40<00:00,  3.21it/s]\n",
      "100%|██████████| 128/128 [00:40<00:00,  3.17it/s]\n",
      "100%|██████████| 128/128 [00:40<00:00,  3.20it/s]\n",
      "100%|██████████| 128/128 [00:40<00:00,  3.18it/s]\n",
      "100%|██████████| 128/128 [00:40<00:00,  3.16it/s]\n",
      "100%|██████████| 128/128 [00:40<00:00,  3.19it/s]\n",
      "100%|██████████| 128/128 [00:40<00:00,  3.17it/s]\n",
      "100%|██████████| 128/128 [00:40<00:00,  3.16it/s]\n",
      "100%|██████████| 128/128 [00:40<00:00,  3.19it/s]\n",
      "100%|██████████| 128/128 [00:40<00:00,  3.16it/s]\n",
      "100%|██████████| 128/128 [00:40<00:00,  3.19it/s]\n",
      "100%|██████████| 128/128 [00:40<00:00,  3.17it/s]\n",
      "100%|██████████| 128/128 [00:40<00:00,  3.15it/s]\n",
      "100%|██████████| 128/128 [00:40<00:00,  3.20it/s]\n",
      "100%|██████████| 128/128 [00:40<00:00,  3.18it/s]\n",
      "100%|██████████| 128/128 [00:40<00:00,  3.15it/s]\n",
      "100%|██████████| 128/128 [00:40<00:00,  3.13it/s]\n",
      "100%|██████████| 128/128 [00:40<00:00,  3.16it/s]\n",
      "100%|██████████| 128/128 [00:40<00:00,  3.21it/s]\n",
      "100%|██████████| 128/128 [00:40<00:00,  3.20it/s]\n",
      "100%|██████████| 128/128 [00:40<00:00,  3.19it/s]\n",
      "100%|██████████| 128/128 [00:40<00:00,  3.18it/s]\n",
      "100%|██████████| 128/128 [00:40<00:00,  3.17it/s]\n",
      "100%|██████████| 128/128 [00:40<00:00,  3.17it/s]\n",
      "100%|██████████| 128/128 [00:40<00:00,  3.17it/s]\n",
      "100%|██████████| 128/128 [00:40<00:00,  3.15it/s]\n",
      "100%|██████████| 128/128 [00:40<00:00,  3.18it/s]\n",
      "100%|██████████| 128/128 [00:40<00:00,  3.18it/s]\n",
      "100%|██████████| 128/128 [00:40<00:00,  3.16it/s]\n",
      "100%|██████████| 128/128 [00:40<00:00,  3.18it/s]\n",
      "100%|██████████| 128/128 [00:40<00:00,  3.18it/s]\n",
      "100%|██████████| 128/128 [00:40<00:00,  3.18it/s]\n",
      "100%|██████████| 128/128 [00:40<00:00,  3.14it/s]\n",
      "100%|██████████| 128/128 [00:40<00:00,  3.18it/s]\n",
      "100%|██████████| 128/128 [00:40<00:00,  3.18it/s]\n",
      "100%|██████████| 128/128 [00:40<00:00,  3.19it/s]\n",
      "100%|██████████| 128/128 [00:40<00:00,  3.18it/s]\n",
      "100%|██████████| 128/128 [00:40<00:00,  3.19it/s]\n",
      "100%|██████████| 128/128 [00:40<00:00,  3.19it/s]\n",
      "100%|██████████| 128/128 [00:40<00:00,  3.18it/s]\n",
      "100%|██████████| 128/128 [00:40<00:00,  3.15it/s]\n",
      "100%|██████████| 128/128 [00:40<00:00,  3.17it/s]\n",
      "100%|██████████| 128/128 [00:40<00:00,  3.15it/s]\n",
      "100%|██████████| 128/128 [00:40<00:00,  3.18it/s]\n",
      "100%|██████████| 128/128 [00:40<00:00,  3.15it/s]\n",
      "100%|██████████| 128/128 [00:40<00:00,  3.16it/s]\n",
      "100%|██████████| 128/128 [00:40<00:00,  3.16it/s]\n",
      "100%|██████████| 128/128 [00:40<00:00,  3.19it/s]\n",
      "100%|██████████| 128/128 [00:40<00:00,  3.17it/s]\n",
      "100%|██████████| 128/128 [00:40<00:00,  3.18it/s]\n",
      "100%|██████████| 128/128 [00:40<00:00,  3.19it/s]\n",
      "100%|██████████| 128/128 [00:40<00:00,  3.14it/s]\n",
      "100%|██████████| 128/128 [00:42<00:00,  3.16it/s]\n",
      "100%|██████████| 128/128 [00:40<00:00,  3.17it/s]\n",
      "100%|██████████| 128/128 [00:40<00:00,  3.17it/s]\n",
      "100%|██████████| 128/128 [00:40<00:00,  3.18it/s]\n",
      "100%|██████████| 128/128 [00:40<00:00,  3.17it/s]\n",
      "100%|██████████| 128/128 [00:40<00:00,  3.17it/s]\n",
      "100%|██████████| 128/128 [00:40<00:00,  3.15it/s]\n",
      "100%|██████████| 128/128 [00:40<00:00,  3.18it/s]\n",
      "100%|██████████| 128/128 [00:40<00:00,  3.19it/s]\n",
      "100%|██████████| 128/128 [00:40<00:00,  3.16it/s]\n",
      "100%|██████████| 128/128 [00:40<00:00,  3.16it/s]\n",
      "100%|██████████| 128/128 [00:40<00:00,  3.18it/s]\n",
      "100%|██████████| 128/128 [00:40<00:00,  3.17it/s]\n",
      "100%|██████████| 128/128 [00:40<00:00,  3.12it/s]\n",
      "100%|██████████| 128/128 [00:40<00:00,  3.19it/s]\n",
      "100%|██████████| 128/128 [00:40<00:00,  3.18it/s]\n",
      "100%|██████████| 128/128 [00:40<00:00,  3.17it/s]\n",
      "100%|██████████| 128/128 [00:40<00:00,  3.17it/s]\n",
      "100%|██████████| 128/128 [00:40<00:00,  3.16it/s]\n",
      "100%|██████████| 128/128 [00:40<00:00,  3.20it/s]\n",
      "100%|██████████| 128/128 [00:40<00:00,  3.18it/s]\n",
      "100%|██████████| 128/128 [00:40<00:00,  3.17it/s]\n",
      "100%|██████████| 128/128 [00:40<00:00,  3.19it/s]\n",
      "100%|██████████| 128/128 [00:40<00:00,  3.18it/s]\n",
      "100%|██████████| 128/128 [00:40<00:00,  3.17it/s]\n",
      "100%|██████████| 128/128 [00:40<00:00,  3.14it/s]\n",
      "100%|██████████| 128/128 [00:40<00:00,  3.17it/s]\n",
      "100%|██████████| 128/128 [00:40<00:00,  3.16it/s]\n",
      "100%|██████████| 128/128 [00:40<00:00,  3.14it/s]\n",
      "100%|██████████| 128/128 [00:40<00:00,  3.17it/s]\n",
      "100%|██████████| 128/128 [00:40<00:00,  3.17it/s]\n",
      "100%|██████████| 128/128 [00:40<00:00,  3.16it/s]\n",
      "100%|██████████| 128/128 [00:40<00:00,  3.15it/s]\n",
      "100%|██████████| 128/128 [00:40<00:00,  3.18it/s]\n",
      "100%|██████████| 128/128 [00:40<00:00,  3.19it/s]\n",
      "100%|██████████| 128/128 [00:40<00:00,  3.18it/s]\n",
      "100%|██████████| 128/128 [00:40<00:00,  3.16it/s]\n",
      "100%|██████████| 128/128 [00:40<00:00,  3.18it/s]\n",
      "100%|██████████| 128/128 [00:40<00:00,  3.17it/s]\n",
      "100%|██████████| 128/128 [00:40<00:00,  3.15it/s]\n",
      "100%|██████████| 128/128 [00:40<00:00,  3.17it/s]\n",
      "100%|██████████| 128/128 [00:40<00:00,  3.18it/s]\n"
     ]
    }
   ],
   "source": [
    "for epoch in range(101):\n",
    "    train_dcgan(g, d, opt_g, opt_d, img_loader)\n",
    "    # 10회 반복마다 학습 결과를 저장\n",
    "    if epoch % 10 == 0:\n",
    "        # 파라미터 저장\n",
    "        torch.save(\n",
    "            g.state_dict(),\n",
    "            \"data/g_{:03d}.prm\".format(epoch),\n",
    "            pickle_protocol=4)\n",
    "        torch.save(\n",
    "            d.state_dict(),\n",
    "            \"data/d_{:03d}.prm\".format(epoch),\n",
    "            pickle_protocol=4)\n",
    "        # 모니터링용 z로부터 생성한 이미지 저장\n",
    "        generated_img = g(fixed_z)\n",
    "        save_image(generated_img,\n",
    "                   \"data/{:03d}.jpg\".format(epoch))\n"
   ]
  },
  {
   "cell_type": "code",
   "execution_count": 30,
   "metadata": {
    "colab": {
     "base_uri": "https://localhost:8080/",
     "height": 547
    },
    "colab_type": "code",
    "executionInfo": {
     "elapsed": 1563,
     "status": "ok",
     "timestamp": 1545986804132,
     "user": {
      "displayName": "winston kim",
      "photoUrl": "",
      "userId": "05942964544969189760"
     },
     "user_tz": -480
    },
    "id": "gojs0-A89t5C",
    "outputId": "ee43543c-15be-4e16-f67f-9d4b3220a739"
   },
   "outputs": [
    {
     "data": {
      "image/jpeg": "[encoded data removed]"
     },
     "metadata": {},
     "output_type": "display_data"
    }
   ],
   "source": [
    "from IPython.display import Image,display_jpeg\n",
    "display_jpeg(Image('data/100.jpg'))"
   ]
  },
  {
   "cell_type": "code",
   "execution_count": null,
   "metadata": {},
   "outputs": [],
   "source": []
  }
 ],
 "metadata": {
  "accelerator": "GPU",
  "colab": {
   "collapsed_sections": [],
   "name": "pytorch_chapter4.ipynb",
   "provenance": [],
   "version": "0.3.2"
  },
  "kernelspec": {
   "display_name": "Python 3",
   "language": "python",
   "name": "python3"
  },
  "language_info": {
   "codemirror_mode": {
    "name": "ipython",
    "version": 3
   },
   "file_extension": ".py",
   "mimetype": "text/x-python",
   "name": "python",
   "nbconvert_exporter": "python",
   "pygments_lexer": "ipython3",
   "version": "3.6.8"
  }
 },
 "nbformat": 4,
 "nbformat_minor": 2
}
