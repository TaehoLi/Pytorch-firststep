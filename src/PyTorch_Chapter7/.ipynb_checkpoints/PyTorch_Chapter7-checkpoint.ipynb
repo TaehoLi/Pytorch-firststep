{
 "cells": [
  {
   "cell_type": "markdown",
   "metadata": {
    "colab_type": "text",
    "id": "5mPxTNiJgoyd"
   },
   "source": [
    "Chapter7　アプリケーションへの組込み（7.4節以降）"
   ]
  },
  {
   "cell_type": "code",
   "execution_count": 0,
   "metadata": {
    "colab": {},
    "colab_type": "code",
    "id": "udzwQTIegPY8"
   },
   "outputs": [],
   "source": [
    "import torch\n",
    "torch.tensor([1,2,3]).to(\"cuda:0\")"
   ]
  },
  {
   "cell_type": "code",
   "execution_count": 0,
   "metadata": {
    "colab": {},
    "colab_type": "code",
    "id": "VQYbKgA7gPZA"
   },
   "outputs": [],
   "source": [
    "import torch\n",
    "from torch import nn, optim\n",
    "from torch.utils.data import (Dataset,\n",
    "                            DataLoader,\n",
    "                            TensorDataset)\n",
    "import tqdm"
   ]
  },
  {
   "cell_type": "markdown",
   "metadata": {
    "colab_type": "text",
    "id": "gN7BjUfugPY7"
   },
   "source": [
    "リスト7.12　学習済みモデルの読み込み"
   ]
  },
  {
   "cell_type": "code",
   "execution_count": 0,
   "metadata": {
    "colab": {},
    "colab_type": "code",
    "id": "P4bUI2qxgPZE"
   },
   "outputs": [],
   "source": [
    "from torchvision import models\n",
    "\n",
    "def create_network():\n",
    "    \n",
    "    # resnet18ベースの2クラス識別モデル\n",
    "    net = models.resnet18()\n",
    "    fc_input_dim = net.fc.in_features\n",
    "    net.fc = nn.Linear(fc_input_dim, 2)\n",
    "    return net\n",
    "\n",
    "# モデルの生成\n",
    "net = create_network()\n",
    "\n",
    "# パラメータの読み込みとモデルへセット\n",
    "prm = torch.load(\"taco_burrito.prm\", map_location=\"cpu\")\n",
    "net.load_state_dict(prm)\n",
    "\n",
    "# 評価モードに設定\n",
    "net.eval()"
   ]
  },
  {
   "cell_type": "markdown",
   "metadata": {
    "colab_type": "text",
    "id": "Zrb5XZtagPZH"
   },
   "source": [
    "リスト7.13　taco_burrito.onnxの出力"
   ]
  },
  {
   "cell_type": "code",
   "execution_count": 0,
   "metadata": {
    "colab": {},
    "colab_type": "code",
    "id": "W-wfincogPZI"
   },
   "outputs": [],
   "source": [
    "import torch.onnx\n",
    "dummy_data = torch.empty(1, 3, 224, 224, dtype=torch.float32)\n",
    "torch.onnx.export(net, dummy_data, \"taco_burrito.onnx\")"
   ]
  },
  {
   "cell_type": "markdown",
   "metadata": {
    "colab_type": "text",
    "id": "Kvk5UUAagPZK"
   },
   "source": [
    "リスト7.14　ONNXからインポート"
   ]
  },
  {
   "cell_type": "code",
   "execution_count": 0,
   "metadata": {
    "colab": {},
    "colab_type": "code",
    "id": "rLrCrOGAgPZL"
   },
   "outputs": [],
   "source": [
    "import onnx\n",
    "from caffe2.python.onnx import backend as caffe2_backend\n",
    "\n",
    "# ONNXモデルを読み込む\n",
    "onnx_model = onnx.load(\"taco_burrito.onnx\")\n",
    "\n",
    "# ONNXモデルをCaffe2モデルに変換\n",
    "backend = caffe2_backend.prepare(onnx_model)"
   ]
  },
  {
   "cell_type": "markdown",
   "metadata": {
    "colab_type": "text",
    "id": "K_X0DRlsgPZN"
   },
   "source": [
    "リスト7.15　PyTorchモデルとONNX経由のCaffe2モデルの比較（<your_path>は任意のディレクトリを指定）"
   ]
  },
  {
   "cell_type": "code",
   "execution_count": 0,
   "metadata": {
    "colab": {},
    "colab_type": "code",
    "id": "4gJUuOy1gPZO"
   },
   "outputs": [],
   "source": [
    "from PIL import Image\n",
    "from torchvision import transforms\n",
    "\n",
    "# 画像をクロップしてTensorに変換する関数\n",
    "transform = transforms.Compose([\n",
    "    transforms.CenterCrop(224),\n",
    "    transforms.ToTensor()\n",
    "])\n",
    "\n",
    "# 画像の読み込み\n",
    "img = Image.open(\"<your_path>/test/burrito/360.jpg\")\n",
    "\n",
    "# Tensorに変換し、バッチの次元を足す\n",
    "img_tensor = transform(img).unsqueeze(0)\n",
    "\n",
    "# ndarrayに変換\n",
    "img_ndarray = img_tensor.numpy()\n",
    "\n",
    "# PyTorchで実行\n",
    "net(img_tensor)"
   ]
  },
  {
   "cell_type": "code",
   "execution_count": 0,
   "metadata": {
    "colab": {},
    "colab_type": "code",
    "id": "umEMLdh-gPZQ"
   },
   "outputs": [],
   "source": [
    "# ONNX/Caffe2で実行\n",
    "output = backend.run(img_ndarray)\n",
    "output[0]"
   ]
  },
  {
   "cell_type": "markdown",
   "metadata": {
    "colab_type": "text",
    "id": "iSse4zZYgPZT"
   },
   "source": [
    "リスト7.16　ONNXに依存せずCaffe2のモデルに変換する"
   ]
  },
  {
   "cell_type": "code",
   "execution_count": 0,
   "metadata": {
    "colab": {},
    "colab_type": "code",
    "id": "9u7gXhykgPZU"
   },
   "outputs": [],
   "source": [
    "from caffe2.python.onnx.backend import Caffe2Backend\n",
    "\n",
    "init_net, predict_net = \\\n",
    "    Caffe2Backend.onnx_graph_to_caffe2_net(onnx_model)"
   ]
  },
  {
   "cell_type": "markdown",
   "metadata": {
    "colab_type": "text",
    "id": "zyZnVfRUhzmO"
   },
   "source": [
    "リスト7.17　生成したCaffe2のネットワーク定義とパラメータの保存"
   ]
  },
  {
   "cell_type": "code",
   "execution_count": 0,
   "metadata": {
    "colab": {},
    "colab_type": "code",
    "id": "V2rcRBmrgPZW"
   },
   "outputs": [],
   "source": [
    "with open('init_net.pb', \"wb\") as fopen:\n",
    "    fopen.write(init_net.SerializeToString())\n",
    "\n",
    "with open('predict_net.pb', \"wb\") as fopen:\n",
    "    fopen.write(predict_net.SerializeToString())"
   ]
  }
 ],
 "metadata": {
  "colab": {
   "collapsed_sections": [],
   "name": "c07-app.ipynb",
   "provenance": [],
   "version": "0.3.2"
  },
  "kernelspec": {
   "display_name": "Python 3",
   "language": "python",
   "name": "python3"
  },
  "language_info": {
   "codemirror_mode": {
    "name": "ipython",
    "version": 3
   },
   "file_extension": ".py",
   "mimetype": "text/x-python",
   "name": "python",
   "nbconvert_exporter": "python",
   "pygments_lexer": "ipython3",
   "version": "3.6.0"
  }
 },
 "nbformat": 4,
 "nbformat_minor": 1
}
